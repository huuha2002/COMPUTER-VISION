{
 "cells": [
  {
   "cell_type": "code",
   "execution_count": 3,
   "id": "5cb9a571-bac0-4f9c-96e9-4df8b0ce2ec0",
   "metadata": {},
   "outputs": [
    {
     "name": "stdout",
     "output_type": "stream",
     "text": [
      "[1 2 3]\n",
      "2\n"
     ]
    }
   ],
   "source": [
    "import numpy as np\n",
    "a = np.array([1,2,3])\n",
    "print(a)\n",
    "element = a[1]\n",
    "print(element)"
   ]
  },
  {
   "cell_type": "code",
   "execution_count": 5,
   "id": "8682b37d-167b-4faf-a72a-0dce7e5a318a",
   "metadata": {},
   "outputs": [
    {
     "name": "stdout",
     "output_type": "stream",
     "text": [
      "Matrix:\n",
      "[[1 2 3]\n",
      " [4 5 6]\n",
      " [7 8 9]]\n"
     ]
    }
   ],
   "source": [
    "matrix = np.array([[1, 2, 3], [4, 5, 6], [7, 8, 9]])\n",
    "print(\"Matrix:\")\n",
    "print(matrix)"
   ]
  },
  {
   "cell_type": "code",
   "execution_count": 6,
   "id": "59fbec7e-175b-48ad-922e-a246464b8cfd",
   "metadata": {},
   "outputs": [
    {
     "name": "stdout",
     "output_type": "stream",
     "text": [
      "6\n"
     ]
    }
   ],
   "source": [
    "element = matrix[1, 2]\n",
    "print(element)"
   ]
  },
  {
   "cell_type": "code",
   "execution_count": 7,
   "id": "55c5251d-05ea-4eed-a593-db1ec109da61",
   "metadata": {},
   "outputs": [
    {
     "name": "stdout",
     "output_type": "stream",
     "text": [
      "[0. 0. 0. 0. 0.]\n"
     ]
    }
   ],
   "source": [
    "a = np.zeros(5)\n",
    "print(a)"
   ]
  },
  {
   "cell_type": "code",
   "execution_count": 8,
   "id": "481e2ad2-7670-4d70-a9bc-a3f8444f9087",
   "metadata": {},
   "outputs": [
    {
     "name": "stdout",
     "output_type": "stream",
     "text": [
      "[1. 1. 1. 1. 1.]\n"
     ]
    }
   ],
   "source": [
    "a = np.ones(5)\n",
    "print(a)\n"
   ]
  },
  {
   "cell_type": "code",
   "execution_count": 9,
   "id": "dafc1aee-bae4-4376-8716-4e8255ef1c85",
   "metadata": {},
   "outputs": [
    {
     "name": "stdout",
     "output_type": "stream",
     "text": [
      "[1. 1. 1. 1. 1.]\n"
     ]
    }
   ],
   "source": [
    "a = np.empty(5)\n",
    "print(a)"
   ]
  },
  {
   "cell_type": "code",
   "execution_count": 10,
   "id": "5b330b4e-eba5-4e9c-a15b-c268477e7260",
   "metadata": {},
   "outputs": [
    {
     "name": "stdout",
     "output_type": "stream",
     "text": [
      "[ 0  1  2  3  4  5  6  7  8  9 10 11 12 13 14 15 16 17 18 19 20 21 22 23\n",
      " 24 25 26 27 28 29 30 31 32 33 34 35 36 37 38 39 40 41 42 43 44 45 46 47\n",
      " 48 49 50 51 52 53 54 55 56 57 58 59 60 61 62 63 64 65 66 67 68 69 70 71\n",
      " 72 73 74 75 76 77 78 79 80 81 82 83 84 85 86 87 88 89 90 91 92 93 94 95\n",
      " 96 97 98 99]\n"
     ]
    }
   ],
   "source": [
    "a = np.arange(100)\n",
    "print(a)"
   ]
  },
  {
   "cell_type": "code",
   "execution_count": 14,
   "id": "52e79d61-36ad-43a9-bab2-c56d6bedf5a9",
   "metadata": {},
   "outputs": [
    {
     "name": "stdout",
     "output_type": "stream",
     "text": [
      "[ 0  2  5  7 10]\n"
     ]
    }
   ],
   "source": [
    "a = np.linspace(0, 10, num=5,dtype=np.int64)\n",
    "print(a)"
   ]
  },
  {
   "cell_type": "code",
   "execution_count": 13,
   "id": "4f4c9f0f-8815-497a-bca0-3f65b7213022",
   "metadata": {},
   "outputs": [
    {
     "name": "stdout",
     "output_type": "stream",
     "text": [
      "[1 1 1 1 1]\n"
     ]
    }
   ],
   "source": [
    "a = np.ones(5, dtype=np.int64)\n",
    "print(a)"
   ]
  },
  {
   "cell_type": "code",
   "execution_count": 18,
   "id": "5e5e0e84-51d1-462a-bd68-b37b88eda3e7",
   "metadata": {},
   "outputs": [
    {
     "name": "stdout",
     "output_type": "stream",
     "text": [
      "[3 5 4 2 1]\n"
     ]
    }
   ],
   "source": [
    "arr = np.array([3, 5, 4, 2, 1])\n",
    "print(arr)\n"
   ]
  },
  {
   "cell_type": "code",
   "execution_count": 19,
   "id": "103cd48c-9d93-4799-8323-00b748fe6b36",
   "metadata": {},
   "outputs": [
    {
     "name": "stdout",
     "output_type": "stream",
     "text": [
      "[1 2 3 4 5]\n"
     ]
    }
   ],
   "source": [
    "arr = np.sort(arr)\n",
    "print(arr)"
   ]
  },
  {
   "cell_type": "code",
   "execution_count": 17,
   "id": "983d5d4f-2c99-4b7a-ae9d-09355bca2358",
   "metadata": {},
   "outputs": [
    {
     "name": "stdout",
     "output_type": "stream",
     "text": [
      "[5 4 3 2 1]\n"
     ]
    }
   ],
   "source": [
    "arr = np.sort(arr)[::-1]\n",
    "print(arr)\n"
   ]
  },
  {
   "cell_type": "code",
   "execution_count": 20,
   "id": "77dbfe71-88fb-4e04-9128-3345b736104b",
   "metadata": {},
   "outputs": [
    {
     "name": "stdout",
     "output_type": "stream",
     "text": [
      "[1 2 3 5]\n"
     ]
    }
   ],
   "source": [
    "arr = np.delete(arr, 3)\n",
    "print(arr)"
   ]
  },
  {
   "cell_type": "code",
   "execution_count": 21,
   "id": "b1db5536-4fcf-4f80-8ee8-9776ad4f0e9d",
   "metadata": {},
   "outputs": [],
   "source": [
    "arr = np.array([[4, 1, 3],\n",
    "                [2, 6.5, 7],\n",
    "                [10,23,6]])\n"
   ]
  },
  {
   "cell_type": "code",
   "execution_count": 22,
   "id": "6aee45a9-6957-4673-8dd4-43a7a0dcad10",
   "metadata": {},
   "outputs": [
    {
     "name": "stdout",
     "output_type": "stream",
     "text": [
      "[[ 1.   3.   4. ]\n",
      " [ 2.   6.5  7. ]\n",
      " [ 6.  10.  23. ]]\n"
     ]
    }
   ],
   "source": [
    "sap_xep_theo_hang = np.sort(arr, axis=1) \n",
    "print(sap_xep_theo_hang)"
   ]
  },
  {
   "cell_type": "code",
   "execution_count": 23,
   "id": "489e06a7-6f5a-4fbd-8432-689e20f388a8",
   "metadata": {},
   "outputs": [
    {
     "name": "stdout",
     "output_type": "stream",
     "text": [
      "[[ 2.   1.   3. ]\n",
      " [ 4.   6.5  6. ]\n",
      " [10.  23.   7. ]]\n"
     ]
    }
   ],
   "source": [
    "sap_xep_theo_cot = np.sort(arr, axis=0)\n",
    "print(sap_xep_theo_cot)"
   ]
  },
  {
   "cell_type": "code",
   "execution_count": 24,
   "id": "878713fd-2afd-48bd-a302-567b145a3862",
   "metadata": {},
   "outputs": [],
   "source": [
    "arr = np.array([[4, 1, 3],\n",
    "                [2, 6.5, 7],\n",
    "                [10,23,6]])"
   ]
  },
  {
   "cell_type": "code",
   "execution_count": 25,
   "id": "c910417c-4334-46dd-bee8-84912670b3ee",
   "metadata": {},
   "outputs": [
    {
     "name": "stdout",
     "output_type": "stream",
     "text": [
      "[[ 4.   3.   1. ]\n",
      " [ 7.   6.5  2. ]\n",
      " [23.  10.   6. ]]\n"
     ]
    }
   ],
   "source": [
    "sap_xep_theo_hang = -np.sort(-arr, axis=1) \n",
    "print(sap_xep_theo_hang)"
   ]
  },
  {
   "cell_type": "code",
   "execution_count": 27,
   "id": "ae7b4b5e-2d8e-4feb-b839-fbbe9e7e3313",
   "metadata": {},
   "outputs": [
    {
     "name": "stdout",
     "output_type": "stream",
     "text": [
      "[[10.  23.   7. ]\n",
      " [ 4.   6.5  6. ]\n",
      " [ 2.   1.   3. ]]\n"
     ]
    }
   ],
   "source": [
    "sap_xep_theo_cot = -np.sort(-arr, axis=0)\n",
    "print(sap_xep_theo_cot)"
   ]
  },
  {
   "cell_type": "code",
   "execution_count": 28,
   "id": "80cd7b47-7656-4eb6-af3b-8cfaf214bdb0",
   "metadata": {},
   "outputs": [],
   "source": [
    "arr = np.array([[1, 2, 3], [4, 5, 6]])"
   ]
  },
  {
   "cell_type": "code",
   "execution_count": 29,
   "id": "0846c898-d826-4c4e-af52-6639d2c84759",
   "metadata": {},
   "outputs": [],
   "source": [
    "so_chieu = arr.ndim \n",
    "kich_thuoc = arr.size  \n",
    "hinh_dang = arr.shape  "
   ]
  },
  {
   "cell_type": "code",
   "execution_count": 30,
   "id": "df629bf1-078f-4291-850f-c7c7bb029565",
   "metadata": {},
   "outputs": [
    {
     "name": "stdout",
     "output_type": "stream",
     "text": [
      "Số chiều: 2\n",
      "Kích thước: 6\n",
      "Hình dạng: (2, 3)\n"
     ]
    }
   ],
   "source": [
    "print(\"Số chiều:\", so_chieu)\n",
    "print(\"Kích thước:\", kich_thuoc)\n",
    "print(\"Hình dạng:\", hinh_dang)"
   ]
  },
  {
   "cell_type": "code",
   "execution_count": 31,
   "id": "248de80e-668e-42cd-b587-e1a9d210a151",
   "metadata": {},
   "outputs": [
    {
     "name": "stdout",
     "output_type": "stream",
     "text": [
      "[1. 2. 3. 4. 5.]\n"
     ]
    }
   ],
   "source": [
    "arr = np.array([1, 2, 3, 4, 5])\n",
    "arr_float = arr.astype(float)\n",
    "print(arr_float)"
   ]
  },
  {
   "cell_type": "code",
   "execution_count": 32,
   "id": "7bb68a3d-5d88-4acc-8850-ef8421b4b443",
   "metadata": {},
   "outputs": [],
   "source": [
    "arr = np.array([1, 2, 3, 4, 5, 6])"
   ]
  },
  {
   "cell_type": "code",
   "execution_count": 33,
   "id": "469d8dae-7e90-47a1-ab5f-2ca58a540b01",
   "metadata": {},
   "outputs": [
    {
     "name": "stdout",
     "output_type": "stream",
     "text": [
      "[[1 2 3]\n",
      " [4 5 6]]\n"
     ]
    }
   ],
   "source": [
    "reshaped_arr = arr.reshape(2,3)\n",
    "print(reshaped_arr)"
   ]
  },
  {
   "cell_type": "code",
   "execution_count": 34,
   "id": "bd7a1858-59ef-49d9-a22e-d71c3a0d1fb2",
   "metadata": {},
   "outputs": [
    {
     "name": "stdout",
     "output_type": "stream",
     "text": [
      "[[1 2]\n",
      " [3 4]\n",
      " [5 6]]\n"
     ]
    }
   ],
   "source": [
    "reshaped_arr = arr.reshape(3,2)\n",
    "print(reshaped_arr)"
   ]
  },
  {
   "cell_type": "code",
   "execution_count": 35,
   "id": "0266f046-c142-431a-a0f8-1d4c99fff0ff",
   "metadata": {},
   "outputs": [
    {
     "name": "stdout",
     "output_type": "stream",
     "text": [
      "[1 2 3 4 5 6]\n"
     ]
    }
   ],
   "source": [
    "reshaped_arr = reshaped_arr.flatten()\n",
    "print(reshaped_arr)"
   ]
  },
  {
   "cell_type": "code",
   "execution_count": 36,
   "id": "f5728e3b-f257-41ec-a533-b6b705747350",
   "metadata": {},
   "outputs": [],
   "source": [
    "arr = np.array([1, 2, 3, 4, 5])"
   ]
  },
  {
   "cell_type": "code",
   "execution_count": 37,
   "id": "c15472fe-a8ff-49d8-80cd-5377672fff50",
   "metadata": {},
   "outputs": [
    {
     "name": "stdout",
     "output_type": "stream",
     "text": [
      "[2 3 4]\n"
     ]
    }
   ],
   "source": [
    "sub_arr = arr[1:4] \n",
    "print(sub_arr)"
   ]
  },
  {
   "cell_type": "code",
   "execution_count": 38,
   "id": "858a9824-4ea5-4ed0-b5b2-5f5c31af474a",
   "metadata": {},
   "outputs": [
    {
     "name": "stdout",
     "output_type": "stream",
     "text": [
      "[1 2 3 4]\n"
     ]
    }
   ],
   "source": [
    "sub_arr = arr[:-1]  \n",
    "print(sub_arr) # xoá số phần tử từ cuôi"
   ]
  },
  {
   "cell_type": "code",
   "execution_count": 39,
   "id": "eee4b098-062e-4d6f-b227-51867cdf8558",
   "metadata": {},
   "outputs": [
    {
     "name": "stdout",
     "output_type": "stream",
     "text": [
      "[4 5]\n"
     ]
    }
   ],
   "source": [
    "sub_arr = arr[-2:]  \n",
    "print(sub_arr) # : ở sau thì lấy số pt từ cuối"
   ]
  },
  {
   "cell_type": "code",
   "execution_count": 40,
   "id": "00f9e502-eaa1-4ab7-8055-8c5e9247622f",
   "metadata": {},
   "outputs": [
    {
     "name": "stdout",
     "output_type": "stream",
     "text": [
      "[[1 2 3]\n",
      " [4 5 6]]\n",
      "[[1 4]\n",
      " [2 5]\n",
      " [3 6]]\n"
     ]
    }
   ],
   "source": [
    "arr = np.array([[1, 2, 3], [4, 5, 6]])\n",
    "print(arr)\n",
    "transposed_arr = arr.T\n",
    "print(transposed_arr)"
   ]
  },
  {
   "cell_type": "code",
   "execution_count": 41,
   "id": "5830ee3d-4881-4122-aa0e-ae0d022151c8",
   "metadata": {},
   "outputs": [],
   "source": [
    "arr1 = np.array([1, 2, 3])\n",
    "arr2 = np.array([4, 5, 6])"
   ]
  },
  {
   "cell_type": "code",
   "execution_count": 42,
   "id": "18d4940d-f9f1-47e4-8f62-8b32b00da9ba",
   "metadata": {},
   "outputs": [
    {
     "name": "stdout",
     "output_type": "stream",
     "text": [
      "[1 2 3 4 5 6]\n"
     ]
    }
   ],
   "source": [
    "arr = np.concatenate((arr1, arr2))\n",
    "print(arr)"
   ]
  },
  {
   "cell_type": "code",
   "execution_count": 43,
   "id": "c909789f-9d0f-4cbd-8c83-9ee946f1e86c",
   "metadata": {},
   "outputs": [
    {
     "name": "stdout",
     "output_type": "stream",
     "text": [
      "Tổng 15\n"
     ]
    }
   ],
   "source": [
    "arr = np.array([1, 2, 3, 4, 5])\n",
    "total = np.sum(arr)\n",
    "print(\"Tổng\", total)"
   ]
  },
  {
   "cell_type": "code",
   "execution_count": 44,
   "id": "ce20b47e-bf0e-4c12-b18f-cd85386c0067",
   "metadata": {},
   "outputs": [
    {
     "name": "stdout",
     "output_type": "stream",
     "text": [
      "Tính giá trị trung bình của mảng arr: 3.0\n"
     ]
    }
   ],
   "source": [
    "avg = np.mean(arr)\n",
    "print(\"Tính giá trị trung bình của mảng arr:\", avg)"
   ]
  },
  {
   "cell_type": "code",
   "execution_count": 45,
   "id": "39fbf762-0806-4fa0-8526-4cdf3083eebd",
   "metadata": {},
   "outputs": [
    {
     "name": "stdout",
     "output_type": "stream",
     "text": [
      "Giá trị lớn nhất trong mảng arr: 5\n"
     ]
    }
   ],
   "source": [
    "max_value = np.max(arr)\n",
    "print(\"Giá trị lớn nhất trong mảng arr:\", max_value)"
   ]
  },
  {
   "cell_type": "code",
   "execution_count": 46,
   "id": "941f75c1-5e6f-4a8b-8f4b-b0572d25007b",
   "metadata": {},
   "outputs": [
    {
     "name": "stdout",
     "output_type": "stream",
     "text": [
      "Giá trị nhỏ nhất trong mảng arr: 1\n"
     ]
    }
   ],
   "source": [
    "min_value = np.min(arr)\n",
    "print(\"Giá trị nhỏ nhất trong mảng arr:\", min_value)"
   ]
  },
  {
   "cell_type": "code",
   "execution_count": 47,
   "id": "10f752db-6bfd-4b20-9d91-a19722d7f18c",
   "metadata": {},
   "outputs": [
    {
     "name": "stdout",
     "output_type": "stream",
     "text": [
      "Độ lệch chuẩn của mảng arr: 1.4142135623730951\n"
     ]
    }
   ],
   "source": [
    "std_deviation = np.std(arr)\n",
    "print(\"Độ lệch chuẩn của mảng arr:\", std_deviation)"
   ]
  },
  {
   "cell_type": "code",
   "execution_count": 48,
   "id": "6490c7d1-821c-406c-8c92-7bb089d2639a",
   "metadata": {},
   "outputs": [
    {
     "name": "stdout",
     "output_type": "stream",
     "text": [
      "Phương sai của mảng arr: 2.0\n"
     ]
    }
   ],
   "source": [
    "variance = np.var(arr)\n",
    "print(\"phương sai của mảng arr:\", variance)"
   ]
  },
  {
   "cell_type": "code",
   "execution_count": 49,
   "id": "72e9dbf3-a957-4c73-a02b-1ccdf360cffb",
   "metadata": {},
   "outputs": [],
   "source": [
    "arr1 = np.array([1, 2, 3])\n",
    "arr2 = np.array([4, 5, 6])"
   ]
  },
  {
   "cell_type": "code",
   "execution_count": 50,
   "id": "6df82340-83dd-4dbc-ab7a-95547cc38208",
   "metadata": {},
   "outputs": [
    {
     "name": "stdout",
     "output_type": "stream",
     "text": [
      "Tổng tích chập của 2 mảng: 32\n"
     ]
    }
   ],
   "source": [
    "dot_product = np.dot(arr1, arr2)\n",
    "print(\"Tổng tích chập của 2 mảng:\", dot_product)"
   ]
  },
  {
   "cell_type": "code",
   "execution_count": null,
   "id": "73713c64-e576-4767-b58d-38a2f62c9865",
   "metadata": {},
   "outputs": [],
   "source": []
  }
 ],
 "metadata": {
  "kernelspec": {
   "display_name": "Python 3 (ipykernel)",
   "language": "python",
   "name": "python3"
  },
  "language_info": {
   "codemirror_mode": {
    "name": "ipython",
    "version": 3
   },
   "file_extension": ".py",
   "mimetype": "text/x-python",
   "name": "python",
   "nbconvert_exporter": "python",
   "pygments_lexer": "ipython3",
   "version": "3.12.4"
  }
 },
 "nbformat": 4,
 "nbformat_minor": 5
}
