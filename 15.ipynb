{
 "cells": [
  {
   "cell_type": "code",
   "execution_count": 1,
   "id": "de81dc2b-1aa9-4a87-9871-e0f1260a5f01",
   "metadata": {},
   "outputs": [
    {
     "name": "stdout",
     "output_type": "stream",
     "text": [
      "Requirement already satisfied: scipy in c:\\users\\creep\\anaconda3\\lib\\site-packages (1.13.1)\n",
      "Requirement already satisfied: numpy<2.3,>=1.22.4 in c:\\users\\creep\\anaconda3\\lib\\site-packages (from scipy) (1.26.4)\n"
     ]
    }
   ],
   "source": [
    "#!pip install scipy"
   ]
  },
  {
   "cell_type": "code",
   "execution_count": 2,
   "id": "57a87d39-7462-4a4c-ab73-902d902691ec",
   "metadata": {},
   "outputs": [],
   "source": [
    "from scipy import linalg\n",
    "import numpy as np"
   ]
  },
  {
   "cell_type": "code",
   "execution_count": 7,
   "id": "52677607-5fed-48b2-b7fa-473a660e1b7d",
   "metadata": {},
   "outputs": [],
   "source": [
    "#Pt tuyen tinh\n",
    "a= np.array([[2,3],[3,2]])\n",
    "b = np.array([6,8])"
   ]
  },
  {
   "cell_type": "code",
   "execution_count": 8,
   "id": "284b7ba8-5f4d-43a1-8754-5f764779956f",
   "metadata": {},
   "outputs": [
    {
     "name": "stdout",
     "output_type": "stream",
     "text": [
      "[2.4 0.4]\n"
     ]
    }
   ],
   "source": [
    "#Giai pt\n",
    "x=linalg.solve(a,b)\n",
    "print(x)\n"
   ]
  },
  {
   "cell_type": "code",
   "execution_count": 12,
   "id": "44a0f4f3-2e8a-410a-a700-54411b3eb88f",
   "metadata": {},
   "outputs": [
    {
     "name": "stdout",
     "output_type": "stream",
     "text": [
      "Ket qua (21.000000000000004, 2.331468351712829e-13)\n"
     ]
    }
   ],
   "source": [
    "#Tinh tich phan\n",
    "from scipy import integrate\n",
    "#f(x)=x^2\n",
    "def my_function(x):\n",
    "    return x*x;\n",
    "#tinh tich phan  f(x) tu 1 den 4\n",
    "integral = integrate.quad(my_function,1,4)\n",
    "print(\"Ket qua\", integral)"
   ]
  },
  {
   "cell_type": "code",
   "execution_count": 11,
   "id": "3ea59835-0b13-41b3-93fd-310599dd53c7",
   "metadata": {},
   "outputs": [
    {
     "name": "stdout",
     "output_type": "stream",
     "text": [
      "Gia tri rieng:  [-0.27491722+0.j  7.27491722+0.j]\n",
      "Vector rieng:  [[-0.79681209 -0.49436913]\n",
      " [ 0.60422718 -0.86925207]]\n"
     ]
    }
   ],
   "source": [
    "from scipy import linalg\n",
    "import numpy as np\n",
    "A = np.array([[2,3], [4,5]])\n",
    "#tinh gia trin rieng va vecter rieng\n",
    "evals, evecs = linalg.eig(A)\n",
    "print(\"Gia tri rieng: \", evals)\n",
    "print(\"Vector rieng: \", evecs)"
   ]
  },
  {
   "cell_type": "code",
   "execution_count": null,
   "id": "8bc847c9-237e-4403-98a7-2f3eda392af1",
   "metadata": {},
   "outputs": [],
   "source": []
  }
 ],
 "metadata": {
  "kernelspec": {
   "display_name": "Python 3 (ipykernel)",
   "language": "python",
   "name": "python3"
  },
  "language_info": {
   "codemirror_mode": {
    "name": "ipython",
    "version": 3
   },
   "file_extension": ".py",
   "mimetype": "text/x-python",
   "name": "python",
   "nbconvert_exporter": "python",
   "pygments_lexer": "ipython3",
   "version": "3.12.4"
  }
 },
 "nbformat": 4,
 "nbformat_minor": 5
}
